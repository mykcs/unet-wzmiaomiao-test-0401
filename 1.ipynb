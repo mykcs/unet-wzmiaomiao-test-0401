{
 "cells": [
  {
   "cell_type": "markdown",
   "source": [
    "随便写的"
   ],
   "metadata": {
    "collapsed": false
   },
   "id": "7085e10adcaa2dfc"
  },
  {
   "cell_type": "code",
   "outputs": [],
   "source": [
    "import matplotlib.pyplot as plt\n",
    "\n",
    "epochs = [0, 1, 2, 3]\n",
    "train_losses = [1.2939, 1.2912, 1.1544, 1.1017]\n",
    "lrs = [0.010000, 0.007719, 0.005359, 0.002872]\n",
    "dice_coefficients = [0.226, 0.226, 0.228, 0.099]\n",
    "mean_ious = [6.4, 6.4, 8.9, 42.8]\n",
    "\n",
    "# 折线图设置\n",
    "plt.figure(figsize=(10, 6))  # 调整图片大小\n",
    "\n",
    "plt.subplot(2, 1, 1)  # 上方子图：训练指标\n",
    "plt.plot(epochs, train_losses, label='Train Loss', marker='o')\n",
    "plt.plot(epochs, lrs, label='Learning Rate', marker='o')\n",
    "plt.plot(epochs, dice_coefficients, label='Dice Coefficient', marker='o')\n",
    "plt.xlabel('Epoch')\n",
    "plt.ylabel('Values')\n",
    "plt.title('Training Metrics')\n",
    "plt.legend()\n",
    "plt.grid(True)\n",
    "\n",
    "# 条形图设置\n",
    "plt.subplot(2, 1, 2)  # 下方子图：IoU\n",
    "bar_labels = ['Class 0', 'Class 1']  # 标签\n",
    "iou_by_epoch = [[0.0, 12.7], [5.0, 12.9], [77.4, 8.1]]  # 每轮的 IoU 数据\n",
    "\n",
    "for i in range(len(epochs)):\n",
    "    plt.bar(bar_labels, iou_by_epoch[i], label=f'Epoch {i}', bottom=mean_ious[i])\n",
    "\n",
    "plt.xlabel('Class')\n",
    "plt.ylabel('IoU')\n",
    "plt.title('Intersection over Union (IoU)')\n",
    "plt.legend()\n",
    "plt.grid(True)\n",
    "\n",
    "plt.tight_layout()\n",
    "plt.show()\n"
   ],
   "metadata": {
    "collapsed": true
   },
   "id": "initial_id",
   "execution_count": null
  },
  {
   "cell_type": "code",
   "outputs": [],
   "source": [
    "! pip install wandb"
   ],
   "metadata": {
    "collapsed": false
   },
   "id": "4b2f0a19c6875df2",
   "execution_count": null
  },
  {
   "cell_type": "code",
   "outputs": [],
   "source": [
    "import logging\n",
    "\n",
    "logger = logging.getLogger(\"wandb\")\n",
    "logger.setLevel(logging.WARNING)"
   ],
   "metadata": {
    "collapsed": false
   },
   "id": "dba0b02fa32b7986",
   "execution_count": null
  },
  {
   "cell_type": "code",
   "outputs": [],
   "source": [
    "# This is secret and shouldn't be checked into version control\n",
    "WANDB_API_KEY=17acd1bc31a78695a83ccc49a28bee44d314e55e\n",
    "# Name and notes optional\n",
    "WANDB_NAME=\"My first run\"\n",
    "WANDB_NOTES=\"Smaller learning rate, more regularization.\""
   ],
   "metadata": {
    "collapsed": false
   },
   "id": "d3f6319829aabf21",
   "execution_count": null
  },
  {
   "cell_type": "code",
   "outputs": [],
   "source": [
    "import wandb\n",
    "import random\n",
    "\n",
    "# start a new wandb run to track this script\n",
    "wandb.init(\n",
    "    # set the wandb project where this run will be logged\n",
    "    project=\"my-awesome-project\",\n",
    "\n",
    "    # track hyperparameters and run metadata\n",
    "    config={\n",
    "    \"learning_rate\": 0.02,\n",
    "    \"architecture\": \"CNN\",\n",
    "    \"dataset\": \"CIFAR-100\",\n",
    "    \"epochs\": 10,\n",
    "    }\n",
    ")\n",
    "\n",
    "# simulate training\n",
    "epochs = 10\n",
    "offset = random.random() / 5\n",
    "for epoch in range(2, epochs):\n",
    "    acc = 1 - 2 ** -epoch - random.random() / epoch - offset\n",
    "    loss = 2 ** -epoch + random.random() / epoch + offset\n",
    "\n",
    "    # log metrics to wandb\n",
    "    wandb.log({\"acc\": acc, \"loss\": loss})\n",
    "\n",
    "# [optional] finish the wandb run, necessary in notebooks\n",
    "wandb.finish()"
   ],
   "metadata": {
    "collapsed": false
   },
   "id": "38c23e24175063d",
   "execution_count": null
  },
  {
   "cell_type": "code",
   "outputs": [],
   "source": [],
   "metadata": {
    "collapsed": false
   },
   "id": "9aeb455b341080ee"
  }
 ],
 "metadata": {
  "kernelspec": {
   "display_name": "Python 3",
   "language": "python",
   "name": "python3"
  },
  "language_info": {
   "codemirror_mode": {
    "name": "ipython",
    "version": 2
   },
   "file_extension": ".py",
   "mimetype": "text/x-python",
   "name": "python",
   "nbconvert_exporter": "python",
   "pygments_lexer": "ipython2",
   "version": "2.7.6"
  }
 },
 "nbformat": 4,
 "nbformat_minor": 5
}
